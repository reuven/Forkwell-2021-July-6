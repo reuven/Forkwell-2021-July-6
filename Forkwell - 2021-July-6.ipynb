{
 "cells": [
  {
   "cell_type": "markdown",
   "metadata": {},
   "source": [
    "# Python exercises!\n",
    "\n",
    "With: Reuven M. Lerner, reuven@lerner.co.il\n",
    "- Twitter: @reuvenmlerner\n",
    "- Web: https://lerner.co.il\n",
    "\n",
    "Watch along with me at: https://github.com/reuven/Forkwell-2021-July-6"
   ]
  },
  {
   "cell_type": "markdown",
   "metadata": {},
   "source": [
    "# Exercises:\n",
    "\n",
    "1. XML creator\n",
    "2. `read_n`\n",
    "3. `once_per_minute`"
   ]
  },
  {
   "cell_type": "markdown",
   "metadata": {},
   "source": [
    "# XML creator\n",
    "\n",
    "Problem: Write a function, `xml`, that will take several types of arguments:\n",
    "\n",
    "- tag name (mandatory)\n",
    "- text (optional)\n",
    "- optional keyword arguments that will be used as the attributes\n",
    "\n",
    "The function should return a string containing the XML.\n",
    "\n",
    "Example:\n",
    "\n",
    "```python\n",
    "xml('tagname', 'text', a=1, b=2, c=3)\n",
    "```\n",
    "\n",
    "We would get back:\n",
    "\n",
    "    <tagname a=1 b=2 c=3>text</tagname>\n",
    "    \n",
    "    "
   ]
  },
  {
   "cell_type": "code",
   "execution_count": 8,
   "metadata": {},
   "outputs": [
    {
     "name": "stdout",
     "output_type": "stream",
     "text": [
      "<mytag></mytag>\n",
      "<mytag>mytext</mytag>\n",
      "<a><b><c>hello</c></b></a>\n",
      "<mytag x=\"100\" y=\"200\" c=\"300\">mytext</mytag>\n"
     ]
    }
   ],
   "source": [
    "def xml(tagname, text='', **kwargs):\n",
    "    attributes = ''\n",
    "    for key, value in kwargs.items():\n",
    "        attributes += f' {key}=\"{value}\"'\n",
    "\n",
    "    return f'<{tagname}{attributes}>{text}</{tagname}>'\n",
    "\n",
    "print(xml('mytag'))\n",
    "print(xml('mytag', 'mytext'))\n",
    "print(xml('a', xml('b', xml('c', 'hello'))))\n",
    "print(xml('mytag', 'mytext', x=100, y=200, c=300))"
   ]
  },
  {
   "cell_type": "markdown",
   "metadata": {},
   "source": [
    "# Exercise: `read_n`\n",
    "\n",
    "When we iterate over a file-like object, each iteration returns the next line in the file. (When we reach the end of the file, the iterations stop.) What if the file we want to read from contains data that's structured in 2-line segments? Or 4-line segments?\n",
    "\n",
    "Write a function, `read_n`, that takes two arguments:\n",
    "\n",
    "- `filename`, the name of the file to read from\n",
    "- `n` "
   ]
  }
 ],
 "metadata": {
  "kernelspec": {
   "display_name": "Python 3",
   "language": "python",
   "name": "python3"
  },
  "language_info": {
   "codemirror_mode": {
    "name": "ipython",
    "version": 3
   },
   "file_extension": ".py",
   "mimetype": "text/x-python",
   "name": "python",
   "nbconvert_exporter": "python",
   "pygments_lexer": "ipython3",
   "version": "3.9.6"
  }
 },
 "nbformat": 4,
 "nbformat_minor": 4
}
